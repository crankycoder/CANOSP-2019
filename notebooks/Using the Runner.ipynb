{
 "cells": [
  {
   "cell_type": "markdown",
   "metadata": {},
   "source": [
    "## Using the Simulation Runner\n",
    "\n",
    "In order to be able to run different simulations with different types of data (fairly) painlessly, it made sense to put together a simple API to run them together.\n",
    "\n",
    "The goal was to try to do this as simply as possible while also being nice to use and easy to expand on. The general idea is this:\n",
    "\n",
    "- Parameters that are used by different simulations/data generation are defined by defining them in json data to set them Runner object\n",
    "    - For example: `{\"num_samples\": 20000, \"num_labels\": 3}`\n",
    "- Simulations/data generation declare what parameters they need in order to be able to run. If any required parameters are missing in the json then the runner stops and prints out what parameters were missing.\n",
    "- If all required parameters are set, then the data generation function runs and the data that is generated is passed to the simulation run function.\n",
    "\n",
    "Creating the runner object immediately runs the simulation.\n",
    "\n",
    "### Expanding the Runner\n",
    "\n",
    "The runner should (hopefully) be easily expandable. When we end up needing different types of parameters, it should be very easy to define some more. For example, if we want to add a parameter called `delay`:\n",
    "- Create a new parameter key in the `runner_keys.py` (`P_KEY_DELAY = \"delay\"`)\n",
    "- Set this value in the parameter json for the simulators that need it\n",
    "- Make sure any simulation/data generation that depends on it marks it as so (in `run_func_ltable` in `runner.py`)\n",
    "\n",
    "Hopefully this isn't over-engineered. I tried very hard to keep this minimalistic"
   ]
  },
  {
   "cell_type": "code",
   "execution_count": 1,
   "metadata": {},
   "outputs": [],
   "source": [
    "from mozfldp.runner import Runner\n",
    "import warnings\n",
    "\n",
    "# hide the warning message temporarily\n",
    "warnings.simplefilter(\"ignore\")\n",
    "\n",
    "# auto-reload the modules everytime a cell is run\n",
    "%load_ext autoreload\n",
    "%autoreload 2\n",
    "\n",
    "blob_data_file_path = \"../datasets/blob_S20000_L3_F4_U100.csv\""
   ]
  },
  {
   "cell_type": "markdown",
   "metadata": {},
   "source": [
    "# Overly simple json generator\n",
    "Since the runner needs to be initialised with json parameter data, here's a simple function that converts a dictionary to a json string:"
   ]
  },
  {
   "cell_type": "code",
   "execution_count": 2,
   "metadata": {},
   "outputs": [],
   "source": [
    "import json\n",
    "\n",
    "def gen_param_json_from_param_dict(param_dict):\n",
    "    return json.dumps(param_dict)        "
   ]
  },
  {
   "cell_type": "markdown",
   "metadata": {},
   "source": [
    "### Example #1: Running Federated Learning with Different Types of Data\n",
    "\n",
    "Before we can run a simulation, we need to initialise the runner with the parameters that the simulation requires: "
   ]
  },
  {
   "cell_type": "code",
   "execution_count": 3,
   "metadata": {},
   "outputs": [],
   "source": [
    "blob_data_file_path = \"../datasets/blob_S20000_L3_F4_U100.csv\"\n",
    "params_dict = {\n",
    "    Runner.P_KEY_NUM_SAMPLES: 20000,\n",
    "    Runner.P_KEY_NUM_LABELS: 3,\n",
    "    Runner.P_KEY_NUM_FEATURES: 4,\n",
    "    Runner.P_KEY_NUM_USERS: 100,\n",
    "    Runner.P_KEY_NUM_ROUNDS: 10,\n",
    "    Runner.P_KEY_BATCH_SIZE: 40,\n",
    "    Runner.P_KEY_NUM_EPOCHS: 5,\n",
    "    Runner.P_KEY_DATA_FILE_PATH: blob_data_file_path,\n",
    "    Runner.P_KEY_RAND_SEED: 42,\n",
    "}\n",
    "\n",
    "json_params = gen_param_json_from_param_dict(params_dict)"
   ]
  },
  {
   "cell_type": "markdown",
   "metadata": {},
   "source": [
    "With the JSON data, we're ready to run the simulation. Now we just need to construct the runner object and specify the data generation tpe\n",
    "\n",
    "It's fine to run multiple simulations with a single runner object."
   ]
  },
  {
   "cell_type": "code",
   "execution_count": 4,
   "metadata": {},
   "outputs": [
    {
     "name": "stdout",
     "output_type": "stream",
     "text": [
      "Generating \"file_data\" data...\n",
      "Running the \"fed_learning\" simulation...\n",
      "Training...\n",
      "Params:  {'batch_size': 40, 'client_fraction': 1, 'epoch': 1, 'init_weight': [array([[0., 0., 0., 0.],\n",
      "       [0., 0., 0., 0.],\n",
      "       [0., 0., 0., 0.]]), array([0., 0., 0.])], 'num_rounds': 10}\n",
      "Weights: [array([[-10.61654909,  16.69856324,  -6.7932592 , -51.4672848 ],\n",
      "       [ 12.86313335, -16.74530439,  -5.19809286,  -5.20404901],\n",
      "       [-30.84055385,  34.42050187,  24.12360651,  97.03290455]]), array([ 287.08697397,  -18.21114464, -806.25488941])]\n",
      "Score: 0.999750\n",
      "\n",
      "\n",
      "Training...\n",
      "Params:  {'batch_size': 40, 'client_fraction': 1, 'epoch': 5, 'init_weight': [array([[0., 0., 0., 0.],\n",
      "       [0., 0., 0., 0.],\n",
      "       [0., 0., 0., 0.]]), array([0., 0., 0.])], 'num_rounds': 10}\n",
      "Weights: [array([[-1.16572831e+01,  1.93391441e+01, -8.23903719e+00,\n",
      "        -5.68271554e+01],\n",
      "       [ 1.03880622e+00, -1.28290159e+00, -3.01597975e-01,\n",
      "         2.83275151e-02],\n",
      "       [-2.53759360e+01,  3.50566124e+01,  2.55224324e+01,\n",
      "         9.85485002e+01]]), array([ 263.12840151,   -6.31169548, -770.88167885])]\n",
      "Score: 1.000000\n",
      "\n",
      "\n",
      "Training...\n",
      "Params:  {'batch_size': 40, 'client_fraction': 0.1, 'epoch': 1, 'init_weight': [array([[0., 0., 0., 0.],\n",
      "       [0., 0., 0., 0.],\n",
      "       [0., 0., 0., 0.]]), array([0., 0., 0.])], 'num_rounds': 10}\n",
      "Weights: [array([[  3.11739774,  58.20387795,  -1.71808146, -62.32467385],\n",
      "       [ 11.46118615, -15.83610869,  -6.37682702,  -7.45714585],\n",
      "       [-55.9665774 ,  24.35925527,  17.20921074, 104.78339717]]), array([ 118.2834664 ,  -13.77341182, -620.21754481])]\n",
      "Score: 0.999625\n",
      "\n",
      "\n",
      "Training...\n",
      "Params:  {'batch_size': 40, 'client_fraction': 0.1, 'epoch': 5, 'init_weight': [array([[0., 0., 0., 0.],\n",
      "       [0., 0., 0., 0.],\n",
      "       [0., 0., 0., 0.]]), array([0., 0., 0.])], 'num_rounds': 10}\n",
      "Weights: [array([[ -8.01803848,  27.33196307,  -5.03165799, -51.04221511],\n",
      "       [  1.06522012,  -1.31600027,  -0.27879279,   0.09439738],\n",
      "       [-27.25265464,  30.72625096,  21.61820546,  89.53268648]]), array([ 165.55719761,   -7.00915651, -701.6903102 ])]\n",
      "Score: 1.000000\n",
      "\n",
      "\n",
      "Finished!\n"
     ]
    }
   ],
   "source": [
    "_ = Runner(json_params, Runner.SIM_TYPE_FED_LEARNING, Runner.DATA_GEN_TYPE_DATA_FROM_FILE)"
   ]
  },
  {
   "cell_type": "markdown",
   "metadata": {},
   "source": [
    "### Example #2: Runner Federated Learning with Differential Privacy"
   ]
  },
  {
   "cell_type": "code",
   "execution_count": 5,
   "metadata": {},
   "outputs": [],
   "source": [
    "params_dict = {\n",
    "    Runner.P_KEY_NUM_SAMPLES: 20000,\n",
    "    Runner.P_KEY_NUM_LABELS: 3,\n",
    "    Runner.P_KEY_NUM_FEATURES: 4,\n",
    "    Runner.P_KEY_NUM_USERS: 100,\n",
    "    Runner.P_KEY_BATCH_SIZE: 40,\n",
    "    Runner.P_KEY_NUM_EPOCHS: 5,\n",
    "    Runner.P_KEY_NUM_ROUNDS: 10,\n",
    "    Runner.P_KEY_WEIGHT_MOD: 1,\n",
    "    Runner.P_KEY_USER_SEL_PROB: 0.1,\n",
    "    Runner.P_KEY_SENSITIVITY: 0.5,\n",
    "    Runner.P_KEY_NOISE_SCALE: 1.0,\n",
    "    Runner.P_KEY_DATA_FILE_PATH: blob_data_file_path\n",
    "}\n",
    "\n",
    "json_params = gen_param_json_from_param_dict(params_dict)"
   ]
  },
  {
   "cell_type": "code",
   "execution_count": 6,
   "metadata": {
    "scrolled": false
   },
   "outputs": [
    {
     "name": "stdout",
     "output_type": "stream",
     "text": [
      "Generating \"file_data\" data...\n",
      "Running the \"fed_avg_with_dp\" simulation...\n",
      "Theta ([coef, inter] for round 0: \n",
      " [-0.01246488  0.15734012  0.11257415 -0.14175231  0.08026086 -0.25686652\n",
      "  0.04949297 -0.00699434 -0.46252793  0.09015778 -0.10756821  0.16983063\n",
      "  0.06986314 -0.18457772 -0.36771826]\n",
      "Theta ([coef, inter] for round 1: \n",
      " [-0.09092099  0.16648902  0.13552367 -0.33574714  0.0739814  -0.29338803\n",
      " -0.02531278 -0.05534413 -0.8263421   0.0602155  -0.13997352  0.1146149\n",
      "  0.12353002 -0.23842829 -0.51434352]\n",
      "Theta ([coef, inter] for round 2: \n",
      " [-0.19134171  0.49578205  0.19167243 -0.65174216  0.14834252 -0.40575947\n",
      " -0.00978062 -0.22510194 -1.35279402  0.03888275 -0.2126846   0.31756821\n",
      "  0.1612367  -0.26926082 -0.87635599]\n",
      "Theta ([coef, inter] for round 3: \n",
      " [-2.58801369e-01  5.68927718e-01  3.13059693e-01 -7.43617231e-01\n",
      "  1.41012351e-03 -3.78718588e-01 -4.18699892e-02 -2.81493307e-01\n",
      " -1.55599646e+00  1.38419129e-01 -2.01856268e-01  3.94656370e-01\n",
      "  1.64634868e-01 -2.41655534e-01 -9.39627575e-01]\n",
      "Theta ([coef, inter] for round 4: \n",
      " [-0.33102611  0.68892608  0.21582177 -0.96560121  0.24555591 -0.48246447\n",
      " -0.12326664 -0.21507067 -1.84005675  0.09404057 -0.20100741  0.67578547\n",
      "  0.19775954 -0.10712815 -1.33827652]\n",
      "Theta ([coef, inter] for round 5: \n",
      " [-0.28401212  0.73646504  0.19497113 -0.99795054  0.079918   -0.50075638\n",
      " -0.09350367 -0.09190656 -1.99172822  0.03889917 -0.26713028  0.82892202\n",
      "  0.23653124 -0.15127484 -1.34365913]\n",
      "Theta ([coef, inter] for round 6: \n",
      " [-0.30708783  0.87800781  0.1383713  -1.08489986  0.04723382 -0.62266267\n",
      " -0.06881703 -0.07014217 -2.36342434  0.08894082 -0.44708756  0.90910846\n",
      "  0.21463191 -0.21813127 -1.55176693]\n",
      "Theta ([coef, inter] for round 7: \n",
      " [-0.28351043  1.05427481  0.16854509 -1.09167066  0.04102612 -0.78250917\n",
      " -0.07102087 -0.06511723 -2.39917764  0.05375844 -0.46319618  0.97185115\n",
      "  0.12214992 -0.12289604 -1.64081643]\n",
      "Theta ([coef, inter] for round 8: \n",
      " [-0.26862141  1.07172246  0.30857732 -1.32984554  0.08992494 -0.59985795\n",
      " -0.15355528 -0.11229929 -2.84184838  0.1469917  -0.64242685  1.18842099\n",
      "  0.05733735 -0.08343    -1.96524176]\n",
      "Theta ([coef, inter] for round 9: \n",
      " [-0.15843546  1.06159388  0.28638005 -1.29820328 -0.01265523 -0.58084862\n",
      " -0.04461281 -0.24624605 -3.12711938  0.15916632 -0.61479059  1.18087118\n",
      " -0.0401804  -0.03993487 -2.09740515]\n",
      "Total privacy spent from privacy budget: -1\n",
      "Score: 0.884875\n",
      "Finished!\n"
     ]
    }
   ],
   "source": [
    "_ = Runner(json_params, Runner.SIM_TYPE_FED_AVG_WITH_DP, Runner.DATA_GEN_TYPE_DATA_FROM_FILE)"
   ]
  },
  {
   "cell_type": "markdown",
   "metadata": {},
   "source": [
    "### Missing Parameters for a Run\n",
    "If the simulation/data generation is missing any required parameters, you will get an exception like this:"
   ]
  },
  {
   "cell_type": "code",
   "execution_count": 7,
   "metadata": {},
   "outputs": [
    {
     "ename": "RunnerException",
     "evalue": "Can not run fed_learning because the following required parameters are missing: \n- rand_seed\n- num_epochs\n- batch_size\n- num_rounds",
     "output_type": "error",
     "traceback": [
      "\u001b[0;31m---------------------------------------------------------------------------\u001b[0m",
      "\u001b[0;31mRunnerException\u001b[0m                           Traceback (most recent call last)",
      "\u001b[0;32m<ipython-input-7-2280951f9540>\u001b[0m in \u001b[0;36m<module>\u001b[0;34m\u001b[0m\n\u001b[1;32m      7\u001b[0m \u001b[0;34m\u001b[0m\u001b[0m\n\u001b[1;32m      8\u001b[0m \u001b[0mjson_params\u001b[0m \u001b[0;34m=\u001b[0m \u001b[0mgen_param_json_from_param_dict\u001b[0m\u001b[0;34m(\u001b[0m\u001b[0mparams_dict\u001b[0m\u001b[0;34m)\u001b[0m\u001b[0;34m\u001b[0m\u001b[0;34m\u001b[0m\u001b[0m\n\u001b[0;32m----> 9\u001b[0;31m \u001b[0m_\u001b[0m \u001b[0;34m=\u001b[0m \u001b[0mRunner\u001b[0m\u001b[0;34m(\u001b[0m\u001b[0mjson_params\u001b[0m\u001b[0;34m,\u001b[0m \u001b[0mRunner\u001b[0m\u001b[0;34m.\u001b[0m\u001b[0mSIM_TYPE_FED_LEARNING\u001b[0m\u001b[0;34m,\u001b[0m \u001b[0mRunner\u001b[0m\u001b[0;34m.\u001b[0m\u001b[0mDATA_GEN_TYPE_DATA_FROM_FILE\u001b[0m\u001b[0;34m)\u001b[0m\u001b[0;34m\u001b[0m\u001b[0;34m\u001b[0m\u001b[0m\n\u001b[0m",
      "\u001b[0;32m~/dev/CANOSP-2019/mozfldp/runner.py\u001b[0m in \u001b[0;36m__init__\u001b[0;34m(self, param_json, s_type, d_type)\u001b[0m\n\u001b[1;32m    241\u001b[0m         \u001b[0mg_run_func\u001b[0m\u001b[0;34m,\u001b[0m \u001b[0mg_prq_prms\u001b[0m \u001b[0;34m=\u001b[0m \u001b[0mRunner\u001b[0m\u001b[0;34m.\u001b[0m\u001b[0m_data_gen_run_func_ltable\u001b[0m\u001b[0;34m[\u001b[0m\u001b[0md_type\u001b[0m\u001b[0;34m]\u001b[0m\u001b[0;34m\u001b[0m\u001b[0;34m\u001b[0m\u001b[0m\n\u001b[1;32m    242\u001b[0m \u001b[0;34m\u001b[0m\u001b[0m\n\u001b[0;32m--> 243\u001b[0;31m         \u001b[0mself\u001b[0m\u001b[0;34m.\u001b[0m\u001b[0m_verify_sim_has_required_params_for_given_run_func\u001b[0m\u001b[0;34m(\u001b[0m\u001b[0ms_prq_prms\u001b[0m\u001b[0;34m,\u001b[0m \u001b[0ms_type\u001b[0m\u001b[0;34m)\u001b[0m\u001b[0;34m\u001b[0m\u001b[0;34m\u001b[0m\u001b[0m\n\u001b[0m\u001b[1;32m    244\u001b[0m         \u001b[0mself\u001b[0m\u001b[0;34m.\u001b[0m\u001b[0m_verify_sim_has_required_params_for_given_run_func\u001b[0m\u001b[0;34m(\u001b[0m\u001b[0mg_prq_prms\u001b[0m\u001b[0;34m,\u001b[0m \u001b[0md_type\u001b[0m\u001b[0;34m)\u001b[0m\u001b[0;34m\u001b[0m\u001b[0;34m\u001b[0m\u001b[0m\n\u001b[1;32m    245\u001b[0m \u001b[0;34m\u001b[0m\u001b[0m\n",
      "\u001b[0;32m~/dev/CANOSP-2019/mozfldp/runner.py\u001b[0m in \u001b[0;36m_verify_sim_has_required_params_for_given_run_func\u001b[0;34m(self, run_func_params, run_func_key)\u001b[0m\n\u001b[1;32m    267\u001b[0m             \u001b[0mex_msg\u001b[0m \u001b[0;34m+=\u001b[0m \u001b[0;34m\"\\n- {}\"\u001b[0m\u001b[0;34m.\u001b[0m\u001b[0mformat\u001b[0m\u001b[0;34m(\u001b[0m\u001b[0mmissing_p\u001b[0m\u001b[0;34m)\u001b[0m\u001b[0;34m\u001b[0m\u001b[0;34m\u001b[0m\u001b[0m\n\u001b[1;32m    268\u001b[0m \u001b[0;34m\u001b[0m\u001b[0m\n\u001b[0;32m--> 269\u001b[0;31m         \u001b[0;32mraise\u001b[0m \u001b[0mRunnerException\u001b[0m\u001b[0;34m(\u001b[0m\u001b[0mex_msg\u001b[0m\u001b[0;34m)\u001b[0m\u001b[0;34m\u001b[0m\u001b[0;34m\u001b[0m\u001b[0m\n\u001b[0m",
      "\u001b[0;31mRunnerException\u001b[0m: Can not run fed_learning because the following required parameters are missing: \n- rand_seed\n- num_epochs\n- batch_size\n- num_rounds"
     ]
    }
   ],
   "source": [
    "params_dict = {\n",
    "    Runner.P_KEY_NUM_SAMPLES: 20000,\n",
    "    Runner.P_KEY_NUM_LABELS: 3,\n",
    "    Runner.P_KEY_NUM_FEATURES: 4,\n",
    "    Runner.P_KEY_NUM_USERS: 100,\n",
    "    Runner.P_KEY_RAND_SEED: 42,\n",
    "    Runner.P_KEY_NUM_ROUNDS: 1,\n",
    "    Runner.P_KEY_BAT\n",
    "}\n",
    "\n",
    "json_params = gen_param_json_from_param_dict(params_dict)\n",
    "_ = Runner(json_params, Runner.SIM_TYPE_FED_LEARNING, Runner.DATA_GEN_TYPE_DATA_FROM_FILE)"
   ]
  },
  {
   "cell_type": "code",
   "execution_count": null,
   "metadata": {},
   "outputs": [],
   "source": []
  },
  {
   "cell_type": "code",
   "execution_count": null,
   "metadata": {},
   "outputs": [],
   "source": []
  },
  {
   "cell_type": "code",
   "execution_count": null,
   "metadata": {},
   "outputs": [],
   "source": []
  }
 ],
 "metadata": {
  "kernelspec": {
   "display_name": "Python 3",
   "language": "python",
   "name": "python3"
  },
  "language_info": {
   "codemirror_mode": {
    "name": "ipython",
    "version": 3
   },
   "file_extension": ".py",
   "mimetype": "text/x-python",
   "name": "python",
   "nbconvert_exporter": "python",
   "pygments_lexer": "ipython3",
   "version": "3.7.4"
  }
 },
 "nbformat": 4,
 "nbformat_minor": 4
}
